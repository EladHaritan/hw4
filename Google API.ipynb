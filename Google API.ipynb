{
 "cells": [
  {
   "cell_type": "code",
   "execution_count": 107,
   "metadata": {},
   "outputs": [],
   "source": [
    "import requests\n",
    "import urllib\n",
    "key = # Enter API #\n",
    "source_city = 'Tel Aviv'"
   ]
  },
  {
   "cell_type": "code",
   "execution_count": 108,
   "metadata": {},
   "outputs": [
    {
     "name": "stdout",
     "output_type": "stream",
     "text": [
      "['איסטנבול', 'אמסטרדם', 'ולטה', 'בזל', 'קוטור']\n"
     ]
    }
   ],
   "source": [
    "dests = open('dests.txt','r',encoding = 'utf8')\n",
    "destlist=list()\n",
    "for line in dests:\n",
    "    destlist.append(line.rstrip('\\n'))\n",
    "\n",
    "print (destlist)"
   ]
  },
  {
   "cell_type": "code",
   "execution_count": 109,
   "metadata": {},
   "outputs": [
    {
     "name": "stdout",
     "output_type": "stream",
     "text": [
      "Do you want to go to API? Enter 'Y' to proceed: y\n",
      "Done\n"
     ]
    }
   ],
   "source": [
    "gotoAPI = input(\"Do you want to go to API? Enter 'Y' to proceed: \").lower()=='y'\n",
    "if gotoAPI:\n",
    "    distancematrix_url = \"https://maps.googleapis.com/maps/api/distancematrix/json?\"\n",
    "    distancematrix_parms={'origins': source_city,'key': key}\n",
    "    destdata = dict()\n",
    "    for des in destlist:\n",
    "        destdata[des]=dict()\n",
    "        distancematrix_parms['destinations'] = des\n",
    "        url = distancematrix_url+urllib.parse.urlencode(distancematrix_parms)\n",
    "        try:\n",
    "            response = requests.get(url)\n",
    "            if not response.status_code == 200:\n",
    "                print('distancematrix HTTP Error:',response.status_code)\n",
    "            else:\n",
    "                try:\n",
    "                    response_data = response.json()\n",
    "                except:\n",
    "                    print('Response distancematrix Not Valid In JSON Format')\n",
    "        except:\n",
    "            print('Somthing went wrong with distancematrix response.get')\n",
    "        destdata[des]['destination_data']=response_data\n",
    "\n",
    "        url = \"https://maps.googleapis.com/maps/api/geocode/json?address=%s&key=%s\" % (des,key)\n",
    "        try:\n",
    "            response = requests.get(url)\n",
    "            if not response.status_code == 200:\n",
    "                print('geocode HTTP Error:',response.status_code)\n",
    "            else:\n",
    "                try:\n",
    "                    response_data = response.json()\n",
    "                except:\n",
    "                    print('Response geocode Not Valid In JSON Format')\n",
    "        except:\n",
    "            print('Somthing went wrong with geocode response.get')\n",
    "        destdata[des]['geocode_data']=response_data\n",
    "    print(\"Done\")\n",
    "else:\n",
    "    print(\"Exit\")"
   ]
  },
  {
   "cell_type": "code",
   "execution_count": 110,
   "metadata": {},
   "outputs": [],
   "source": [
    "final_data = dict()\n",
    "for city,data in destdata.items():\n",
    "    dist = data['destination_data']['rows'][0]['elements'][0]['distance']['text']\n",
    "    dur = data['destination_data']['rows'][0]['elements'][0]['duration']['text']\n",
    "    lng = data['geocode_data']['results'][0]['geometry']['location']['lng']\n",
    "    lat = data['geocode_data']['results'][0]['geometry']['location']['lat']\n",
    "    final_data[city]=(dist,dur,lng,lat)"
   ]
  },
  {
   "cell_type": "code",
   "execution_count": 111,
   "metadata": {},
   "outputs": [
    {
     "name": "stdout",
     "output_type": "stream",
     "text": [
      "City: איסטנבול\n",
      "\tDistance from Tel Aviv: 1,815 km\n",
      "\tDuration: 20 hours 32 mins\n",
      "\tLongitude: 28.9783589\n",
      "\tLatitude: 41.0082376\n",
      "City: אמסטרדם\n",
      "\tDistance from Tel Aviv: 4,528 km\n",
      "\tDuration: 1 day 23 hours\n",
      "\tLongitude: 4.9041389\n",
      "\tLatitude: 52.3675734\n",
      "City: ולטה\n",
      "\tDistance from Tel Aviv: 3,795 km\n",
      "\tDuration: 2 days 3 hours\n",
      "\tLongitude: 14.5145528\n",
      "\tLatitude: 35.8989085\n",
      "City: בזל\n",
      "\tDistance from Tel Aviv: 4,092 km\n",
      "\tDuration: 1 day 20 hours\n",
      "\tLongitude: 7.5885761\n",
      "\tLatitude: 47.5595986\n",
      "City: קוטור\n",
      "\tDistance from Tel Aviv: 3,015 km\n",
      "\tDuration: 1 day 12 hours\n",
      "\tLongitude: 18.771234\n",
      "\tLatitude: 42.424662\n"
     ]
    }
   ],
   "source": [
    "for city,data in final_data.items():\n",
    "    print(\"City: \"+city+'\\n'+\n",
    "          '\\t'+'Distance from '+source_city+': '+data[0]+'\\n'+\n",
    "          '\\t'+'Duration: '+data[1]+'\\n'+\n",
    "          '\\t'+'Longitude: '+str(data[2])+'\\n'+\n",
    "          '\\t'+'Latitude: '+str(data[3]))"
   ]
  },
  {
   "cell_type": "code",
   "execution_count": 121,
   "metadata": {},
   "outputs": [
    {
     "name": "stdout",
     "output_type": "stream",
     "text": [
      "אמסטרדם 4,528 km\n",
      "בזל 4,092 km\n",
      "ולטה 3,795 km\n"
     ]
    }
   ],
   "source": [
    "sorted_cities = sorted(final_data.items(), key=lambda x: x[1][0], reverse=True)\n",
    "for i in sorted_cities[:3]:\n",
    "    print(i[0], i[1][0])\n"
   ]
  },
  {
   "cell_type": "code",
   "execution_count": null,
   "metadata": {},
   "outputs": [],
   "source": []
  }
 ],
 "metadata": {
  "kernelspec": {
   "display_name": "Python 3",
   "language": "python",
   "name": "python3"
  },
  "language_info": {
   "codemirror_mode": {
    "name": "ipython",
    "version": 3
   },
   "file_extension": ".py",
   "mimetype": "text/x-python",
   "name": "python",
   "nbconvert_exporter": "python",
   "pygments_lexer": "ipython3",
   "version": "3.8.5"
  }
 },
 "nbformat": 4,
 "nbformat_minor": 4
}
